{
  "nbformat": 4,
  "nbformat_minor": 0,
  "metadata": {
    "colab": {
      "provenance": [],
      "include_colab_link": true
    },
    "kernelspec": {
      "name": "python3",
      "display_name": "Python 3"
    },
    "language_info": {
      "name": "python"
    }
  },
  "cells": [
    {
      "cell_type": "markdown",
      "metadata": {
        "id": "view-in-github",
        "colab_type": "text"
      },
      "source": [
        "<a href=\"https://colab.research.google.com/github/Sarehj/Database-Design-I/blob/main/DatabaseDesignI.ipynb\" target=\"_parent\"><img src=\"https://colab.research.google.com/assets/colab-badge.svg\" alt=\"Open In Colab\"/></a>"
      ]
    },
    {
      "cell_type": "code",
      "source": [
        "pip install mysql-connector-python"
      ],
      "metadata": {
        "id": "8z-x78pNuoF-"
      },
      "execution_count": null,
      "outputs": []
    },
    {
      "cell_type": "code",
      "source": [
        "pip install pymysql"
      ],
      "metadata": {
        "id": "vzujkj27wChy"
      },
      "execution_count": null,
      "outputs": []
    },
    {
      "cell_type": "code",
      "source": [
        "pip install sshtunnel"
      ],
      "metadata": {
        "id": "0K1ocuJewIb9"
      },
      "execution_count": null,
      "outputs": []
    },
    {
      "cell_type": "code",
      "source": [
        "import pymysql\n",
        "from sshtunnel import SSHTunnelForwarder\n",
        "tunnel = SSHTunnelForwarder(\n",
        "('fries.it.uu.se', 22),# do not change 22, this is a portal\n",
        "ssh_username = 'saja2454', # use your Studium username\n",
        "ssh_password = 'S.j.A.1377', # use your Studium password\n",
        "remote_bind_address=('127.0.0.1', 3306)\n",
        ")\n",
        "tunnel.start()\n",
        "mydb = pymysql.connect(\n",
        "host='127.0.0.1',\n",
        "user='ht23_1_group_39',\n",
        "password='pasSWd_39',\n",
        "port=tunnel.local_bind_port,\n",
        "db = 'ht23_1_project_group_39'\n",
        ")\n",
        "mycursor = mydb.cursor ()\n",
        "mycursor.execute (\"SHOW TABLES\")\n",
        "for x in mycursor:\n",
        "  print (x)\n",
        "mydb.close()\n"
      ],
      "metadata": {
        "colab": {
          "base_uri": "https://localhost:8080/"
        },
        "id": "yQ10Tbphx62r",
        "outputId": "372f3364-04e6-4d94-ed85-1cda19ec8a6d"
      },
      "execution_count": null,
      "outputs": [
        {
          "output_type": "stream",
          "name": "stdout",
          "text": [
            "('Customer',)\n",
            "('CustomerAddress',)\n",
            "('Department',)\n",
            "('Homepage',)\n",
            "('Order',)\n",
            "('Product',)\n",
            "('ProductQuantity',)\n",
            "('Related',)\n",
            "('Review',)\n"
          ]
        }
      ]
    },
    {
      "cell_type": "code",
      "execution_count": 12,
      "metadata": {
        "id": "pDmmzdkc003y",
        "colab": {
          "base_uri": "https://localhost:8080/"
        },
        "outputId": "9ea41169-d2b2-43b8-c355-30880c8cb908"
      },
      "outputs": [
        {
          "name": "stdout",
          "output_type": "stream",
          "text": [
            "\n",
            "Choose a task:\n",
            "1. List products or child departments of a department\n",
            "2. Change the discount of a product\n",
            "0. Exit\n",
            "Enter the task number (0/1/2): 2\n",
            "Enter the product ID: 3\n",
            "Current Discount for Product CasualChic Men's Shirt (ID: 3): 15.00%\n",
            "Enter the new discount percentage: 35\n",
            "Discount for Product CasualChic Men's Shirt (ID: 3) updated to 35%\n",
            "\n",
            "Choose a task:\n",
            "1. List products or child departments of a department\n",
            "2. Change the discount of a product\n",
            "0. Exit\n",
            "Enter the task number (0/1/2): 0\n"
          ]
        }
      ],
      "source": [
        "## Task 1 and 2\n",
        "\n",
        "import pymysql\n",
        "from sshtunnel import SSHTunnelForwarder\n",
        "tunnel = SSHTunnelForwarder(\n",
        "('fries.it.uu.se', 22),\n",
        "ssh_username = 'saja2454',\n",
        "ssh_password = 'S.j.A.1377',\n",
        "remote_bind_address=('127.0.0.1', 3306)\n",
        ")\n",
        "tunnel.start()\n",
        "conn = pymysql.connect(\n",
        "host='127.0.0.1',\n",
        "user='ht23_1_group_39',\n",
        "password='pasSWd_39',\n",
        "port=tunnel.local_bind_port,\n",
        "db = 'ht23_1_project_group_39'\n",
        ")\n",
        "\n",
        "\n",
        "cursor = conn.cursor()\n",
        "\n",
        "# Task 1: List products or child departments of a given department\n",
        "def list_products_or_child_departments(department_id):\n",
        "    query = \"SELECT Title, DepartmentID FROM Department WHERE ParentDepartmentID = %s\"\n",
        "    cursor.execute(query, (department_id,))\n",
        "    child_departments = cursor.fetchall()\n",
        "\n",
        "    if child_departments:\n",
        "        print(\"Child Departments:\")\n",
        "        for department in child_departments:\n",
        "            print(f\"ID: {department[1]}, Title: {department[0]}\")\n",
        "    else:\n",
        "        query = \"SELECT P.ProductID, P.ProductTitle, P.RetailPriceNoVAT, (P.RetailPriceNoVAT - (P.RetailPriceNoVAT * P.DiscountPercentage / 100)) AS DiscountedPrice FROM Product P WHERE DepartmentID = %s\"\n",
        "        cursor.execute(query, (department_id,))\n",
        "        products = cursor.fetchall()\n",
        "\n",
        "        if products:\n",
        "            print(\"Products in the Department:\")\n",
        "            for product in products:\n",
        "                print(f\"ID: {product[0]}, Title: {product[1]}, Discounted Price: ${product[3]:.2f}\")\n",
        "        else:\n",
        "            print(\"No child departments or products found for the given department ID.\")\n",
        "\n",
        "\n",
        "\n",
        "\n",
        "# Task 2: Change the discount percentage of a product\n",
        "def change_discount(product_id):\n",
        "\n",
        "    query = \"SELECT ProductTitle, DiscountPercentage FROM Product WHERE ProductID = %s\"\n",
        "    cursor.execute(query, (product_id,))\n",
        "    result = cursor.fetchone()\n",
        "\n",
        "    if result:\n",
        "        current_discount = result[1]\n",
        "        product_name = result[0]\n",
        "\n",
        "        print(f\"Current Discount for Product {product_name} (ID: {product_id}): {current_discount}%\")\n",
        "\n",
        "        new_discount = input(\"Enter the new discount percentage: \")\n",
        "        query = \"UPDATE Product SET DiscountPercentage = %s WHERE ProductID = %s\"\n",
        "        cursor.execute(query, (new_discount, product_id))\n",
        "        conn.commit()\n",
        "        print(f\"Discount for Product {product_name} (ID: {product_id}) updated to {new_discount}%\")\n",
        "\n",
        "    else:\n",
        "        print(f\"No product found with Product ID {product_id}.\")\n",
        "\n",
        "\n",
        "# Take user input for the tasks\n",
        "while True:\n",
        "    print(\"\\nChoose a task:\")\n",
        "    print(\"1. List products or child departments of a department\")\n",
        "    print(\"2. Change the discount of a product\")\n",
        "    print(\"0. Exit\")\n",
        "    choice = input(\"Enter the task number (0/1/2): \")\n",
        "\n",
        "    if choice == \"1\":\n",
        "        department_id = input(\"Enter the department ID: \")\n",
        "        list_products_or_child_departments(department_id)\n",
        "    elif choice == \"2\":\n",
        "        product_id = input(\"Enter the product ID: \")\n",
        "        change_discount(product_id)\n",
        "    elif choice == \"0\":\n",
        "        break\n",
        "    else:\n",
        "        print(\"Invalid choice. Please enter a valid task number.\")\n",
        "\n",
        "# Close the cursor and connection\n",
        "cursor.close()\n",
        "conn.close()\n"
      ]
    }
  ]
}