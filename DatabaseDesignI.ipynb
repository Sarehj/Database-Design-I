{
  "nbformat": 4,
  "nbformat_minor": 0,
  "metadata": {
    "colab": {
      "provenance": [],
      "include_colab_link": true
    },
    "kernelspec": {
      "name": "python3",
      "display_name": "Python 3"
    },
    "language_info": {
      "name": "python"
    }
  },
  "cells": [
    {
      "cell_type": "markdown",
      "metadata": {
        "id": "view-in-github",
        "colab_type": "text"
      },
      "source": [
        "<a href=\"https://colab.research.google.com/github/Sarehj/Database-Design-I/blob/main/DatabaseDesignI.ipynb\" target=\"_parent\"><img src=\"https://colab.research.google.com/assets/colab-badge.svg\" alt=\"Open In Colab\"/></a>"
      ]
    },
    {
      "cell_type": "code",
      "source": [
        "pip install mysql-connector-python"
      ],
      "metadata": {
        "colab": {
          "base_uri": "https://localhost:8080/"
        },
        "id": "8z-x78pNuoF-",
        "outputId": "48ed13ad-c25d-4fff-ba10-8955611702e9"
      },
      "execution_count": 2,
      "outputs": [
        {
          "output_type": "stream",
          "name": "stdout",
          "text": [
            "Collecting mysql-connector-python\n",
            "  Downloading mysql_connector_python-8.1.0-cp310-cp310-manylinux_2_17_x86_64.whl (27.5 MB)\n",
            "\u001b[2K     \u001b[90m━━━━━━━━━━━━━━━━━━━━━━━━━━━━━━━━━━━━━━━━\u001b[0m \u001b[32m27.5/27.5 MB\u001b[0m \u001b[31m42.4 MB/s\u001b[0m eta \u001b[36m0:00:00\u001b[0m\n",
            "\u001b[?25hCollecting protobuf<=4.21.12,>=4.21.1 (from mysql-connector-python)\n",
            "  Downloading protobuf-4.21.12-cp37-abi3-manylinux2014_x86_64.whl (409 kB)\n",
            "\u001b[2K     \u001b[90m━━━━━━━━━━━━━━━━━━━━━━━━━━━━━━━━━━━━━━━━\u001b[0m \u001b[32m409.8/409.8 kB\u001b[0m \u001b[31m40.8 MB/s\u001b[0m eta \u001b[36m0:00:00\u001b[0m\n",
            "\u001b[?25hInstalling collected packages: protobuf, mysql-connector-python\n",
            "  Attempting uninstall: protobuf\n",
            "    Found existing installation: protobuf 3.20.3\n",
            "    Uninstalling protobuf-3.20.3:\n",
            "      Successfully uninstalled protobuf-3.20.3\n",
            "\u001b[31mERROR: pip's dependency resolver does not currently take into account all the packages that are installed. This behaviour is the source of the following dependency conflicts.\n",
            "tensorflow-metadata 1.14.0 requires protobuf<4.21,>=3.20.3, but you have protobuf 4.21.12 which is incompatible.\u001b[0m\u001b[31m\n",
            "\u001b[0mSuccessfully installed mysql-connector-python-8.1.0 protobuf-4.21.12\n"
          ]
        }
      ]
    },
    {
      "cell_type": "code",
      "source": [
        "pip install pymysql"
      ],
      "metadata": {
        "colab": {
          "base_uri": "https://localhost:8080/"
        },
        "id": "vzujkj27wChy",
        "outputId": "5685a7ca-5e19-49f2-a22d-d37d1a83ec75"
      },
      "execution_count": 3,
      "outputs": [
        {
          "output_type": "stream",
          "name": "stdout",
          "text": [
            "Collecting pymysql\n",
            "  Downloading PyMySQL-1.1.0-py3-none-any.whl (44 kB)\n",
            "\u001b[?25l     \u001b[90m━━━━━━━━━━━━━━━━━━━━━━━━━━━━━━━━━━━━━━━━\u001b[0m \u001b[32m0.0/44.8 kB\u001b[0m \u001b[31m?\u001b[0m eta \u001b[36m-:--:--\u001b[0m\r\u001b[2K     \u001b[90m━━━━━━━━━━━━━━━━━━━━━━━━━━━━━━━━━━━━━━━━\u001b[0m \u001b[32m44.8/44.8 kB\u001b[0m \u001b[31m1.3 MB/s\u001b[0m eta \u001b[36m0:00:00\u001b[0m\n",
            "\u001b[?25hInstalling collected packages: pymysql\n",
            "Successfully installed pymysql-1.1.0\n"
          ]
        }
      ]
    },
    {
      "cell_type": "code",
      "source": [
        "pip install sshtunnel"
      ],
      "metadata": {
        "colab": {
          "base_uri": "https://localhost:8080/"
        },
        "id": "0K1ocuJewIb9",
        "outputId": "b9a5e6c6-50fd-4efd-aa87-1ae9e860e2a3"
      },
      "execution_count": 4,
      "outputs": [
        {
          "output_type": "stream",
          "name": "stdout",
          "text": [
            "Collecting sshtunnel\n",
            "  Downloading sshtunnel-0.4.0-py2.py3-none-any.whl (24 kB)\n",
            "Collecting paramiko>=2.7.2 (from sshtunnel)\n",
            "  Downloading paramiko-3.3.1-py3-none-any.whl (224 kB)\n",
            "\u001b[2K     \u001b[90m━━━━━━━━━━━━━━━━━━━━━━━━━━━━━━━━━━━━━━━━\u001b[0m \u001b[32m224.8/224.8 kB\u001b[0m \u001b[31m4.9 MB/s\u001b[0m eta \u001b[36m0:00:00\u001b[0m\n",
            "\u001b[?25hCollecting bcrypt>=3.2 (from paramiko>=2.7.2->sshtunnel)\n",
            "  Downloading bcrypt-4.0.1-cp36-abi3-manylinux_2_28_x86_64.whl (593 kB)\n",
            "\u001b[2K     \u001b[90m━━━━━━━━━━━━━━━━━━━━━━━━━━━━━━━━━━━━━━━━\u001b[0m \u001b[32m593.7/593.7 kB\u001b[0m \u001b[31m24.9 MB/s\u001b[0m eta \u001b[36m0:00:00\u001b[0m\n",
            "\u001b[?25hRequirement already satisfied: cryptography>=3.3 in /usr/local/lib/python3.10/dist-packages (from paramiko>=2.7.2->sshtunnel) (41.0.4)\n",
            "Collecting pynacl>=1.5 (from paramiko>=2.7.2->sshtunnel)\n",
            "  Downloading PyNaCl-1.5.0-cp36-abi3-manylinux_2_17_x86_64.manylinux2014_x86_64.manylinux_2_24_x86_64.whl (856 kB)\n",
            "\u001b[2K     \u001b[90m━━━━━━━━━━━━━━━━━━━━━━━━━━━━━━━━━━━━━━━━\u001b[0m \u001b[32m856.7/856.7 kB\u001b[0m \u001b[31m52.0 MB/s\u001b[0m eta \u001b[36m0:00:00\u001b[0m\n",
            "\u001b[?25hRequirement already satisfied: cffi>=1.12 in /usr/local/lib/python3.10/dist-packages (from cryptography>=3.3->paramiko>=2.7.2->sshtunnel) (1.16.0)\n",
            "Requirement already satisfied: pycparser in /usr/local/lib/python3.10/dist-packages (from cffi>=1.12->cryptography>=3.3->paramiko>=2.7.2->sshtunnel) (2.21)\n",
            "Installing collected packages: bcrypt, pynacl, paramiko, sshtunnel\n",
            "Successfully installed bcrypt-4.0.1 paramiko-3.3.1 pynacl-1.5.0 sshtunnel-0.4.0\n"
          ]
        }
      ]
    },
    {
      "cell_type": "code",
      "source": [
        "import pymysql\n",
        "from sshtunnel import SSHTunnelForwarder\n",
        "tunnel = SSHTunnelForwarder(\n",
        "('fries.it.uu.se', 22),# do not change 22, this is a portal\n",
        "ssh_username = 'saja2454', # use your Studium username\n",
        "ssh_password = 'S.j.A.1377', # use your Studium password\n",
        "remote_bind_address=('127.0.0.1', 3306)\n",
        ")\n",
        "tunnel.start()\n",
        "mydb = pymysql.connect(\n",
        "host='127.0.0.1',\n",
        "user='ht23_1_group_39',\n",
        "password='pasSWd_39',\n",
        "port=tunnel.local_bind_port,\n",
        "db = 'ht23_1_project_group_39'\n",
        ")\n",
        "mycursor = mydb.cursor ()\n",
        "mycursor.execute (\"SHOW TABLES\")\n",
        "for x in mycursor:\n",
        "  print (x)\n",
        "mydb.close()\n"
      ],
      "metadata": {
        "colab": {
          "base_uri": "https://localhost:8080/"
        },
        "id": "yQ10Tbphx62r",
        "outputId": "372f3364-04e6-4d94-ed85-1cda19ec8a6d"
      },
      "execution_count": null,
      "outputs": [
        {
          "output_type": "stream",
          "name": "stdout",
          "text": [
            "('Customer',)\n",
            "('CustomerAddress',)\n",
            "('Department',)\n",
            "('Homepage',)\n",
            "('Order',)\n",
            "('Product',)\n",
            "('ProductQuantity',)\n",
            "('Related',)\n",
            "('Review',)\n"
          ]
        }
      ]
    },
    {
      "cell_type": "code",
      "execution_count": 12,
      "metadata": {
        "id": "pDmmzdkc003y",
        "colab": {
          "base_uri": "https://localhost:8080/"
        },
        "outputId": "9ea41169-d2b2-43b8-c355-30880c8cb908"
      },
      "outputs": [
        {
          "name": "stdout",
          "output_type": "stream",
          "text": [
            "\n",
            "Choose a task:\n",
            "1. List products or child departments of a department\n",
            "2. Change the discount of a product\n",
            "0. Exit\n",
            "Enter the task number (0/1/2): 2\n",
            "Enter the product ID: 3\n",
            "Current Discount for Product CasualChic Men's Shirt (ID: 3): 15.00%\n",
            "Enter the new discount percentage: 35\n",
            "Discount for Product CasualChic Men's Shirt (ID: 3) updated to 35%\n",
            "\n",
            "Choose a task:\n",
            "1. List products or child departments of a department\n",
            "2. Change the discount of a product\n",
            "0. Exit\n",
            "Enter the task number (0/1/2): 0\n"
          ]
        }
      ],
      "source": [
        "## Task 1 and 2\n",
        "\n",
        "import pymysql\n",
        "from sshtunnel import SSHTunnelForwarder\n",
        "tunnel = SSHTunnelForwarder(\n",
        "('fries.it.uu.se', 22),\n",
        "ssh_username = 'saja2454',\n",
        "ssh_password = 'S.j.A.1377',\n",
        "remote_bind_address=('127.0.0.1', 3306)\n",
        ")\n",
        "tunnel.start()\n",
        "conn = pymysql.connect(\n",
        "host='127.0.0.1',\n",
        "user='ht23_1_group_39',\n",
        "password='pasSWd_39',\n",
        "port=tunnel.local_bind_port,\n",
        "db = 'ht23_1_project_group_39'\n",
        ")\n",
        "\n",
        "\n",
        "cursor = conn.cursor()\n",
        "\n",
        "# Task 1: List products or child departments of a given department\n",
        "def list_products_or_child_departments(department_id):\n",
        "    query = \"SELECT Title, DepartmentID FROM Department WHERE ParentDepartmentID = %s\"\n",
        "    cursor.execute(query, (department_id,))\n",
        "    child_departments = cursor.fetchall()\n",
        "\n",
        "    if child_departments:\n",
        "        print(\"Child Departments:\")\n",
        "        for department in child_departments:\n",
        "            print(f\"ID: {department[1]}, Title: {department[0]}\")\n",
        "    else:\n",
        "        query = \"SELECT P.ProductID, P.ProductTitle, P.RetailPriceNoVAT, (P.RetailPriceNoVAT - (P.RetailPriceNoVAT * P.DiscountPercentage / 100)) AS DiscountedPrice FROM Product P WHERE DepartmentID = %s\"\n",
        "        cursor.execute(query, (department_id,))\n",
        "        products = cursor.fetchall()\n",
        "\n",
        "        if products:\n",
        "            print(\"Products in the Department:\")\n",
        "            for product in products:\n",
        "                print(f\"ID: {product[0]}, Title: {product[1]}, Discounted Price: ${product[3]:.2f}\")\n",
        "        else:\n",
        "            print(\"No child departments or products found for the given department ID.\")\n",
        "\n",
        "\n",
        "\n",
        "\n",
        "# Task 2: Change the discount percentage of a product\n",
        "def change_discount(product_id):\n",
        "\n",
        "    query = \"SELECT ProductTitle, DiscountPercentage FROM Product WHERE ProductID = %s\"\n",
        "    cursor.execute(query, (product_id,))\n",
        "    result = cursor.fetchone()\n",
        "\n",
        "    if result:\n",
        "        current_discount = result[1]\n",
        "        product_name = result[0]\n",
        "\n",
        "        print(f\"Current Discount for Product {product_name} (ID: {product_id}): {current_discount}%\")\n",
        "\n",
        "        new_discount = input(\"Enter the new discount percentage: \")\n",
        "        query = \"UPDATE Product SET DiscountPercentage = %s WHERE ProductID = %s\"\n",
        "        cursor.execute(query, (new_discount, product_id))\n",
        "        conn.commit()\n",
        "        print(f\"Discount for Product {product_name} (ID: {product_id}) updated to {new_discount}%\")\n",
        "\n",
        "    else:\n",
        "        print(f\"No product found with Product ID {product_id}.\")\n",
        "\n",
        "\n",
        "# Take user input for the tasks\n",
        "while True:\n",
        "    print(\"\\nChoose a task:\")\n",
        "    print(\"1. List products or child departments of a department\")\n",
        "    print(\"2. Change the discount of a product\")\n",
        "    print(\"0. Exit\")\n",
        "    choice = input(\"Enter the task number (0/1/2): \")\n",
        "\n",
        "    if choice == \"1\":\n",
        "        department_id = input(\"Enter the department ID: \")\n",
        "        list_products_or_child_departments(department_id)\n",
        "    elif choice == \"2\":\n",
        "        product_id = input(\"Enter the product ID: \")\n",
        "        change_discount(product_id)\n",
        "    elif choice == \"0\":\n",
        "        break\n",
        "    else:\n",
        "        print(\"Invalid choice. Please enter a valid task number.\")\n",
        "\n",
        "# Close the cursor and connection\n",
        "cursor.close()\n",
        "conn.close()\n"
      ]
    }
  ]
}